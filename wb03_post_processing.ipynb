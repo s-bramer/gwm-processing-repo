{
 "cells": [
  {
   "cell_type": "code",
   "execution_count": 85,
   "id": "2d3ce236",
   "metadata": {},
   "outputs": [],
   "source": [
    "import flopy\n",
    "import os\n",
    "import numpy as np\n",
    "import pandas as pd"
   ]
  },
  {
   "cell_type": "markdown",
   "id": "96558215",
   "metadata": {},
   "source": [
    "## Heads"
   ]
  },
  {
   "cell_type": "code",
   "execution_count": 86,
   "id": "68424d96",
   "metadata": {},
   "outputs": [],
   "source": [
    "hds_file = os.path.join(\"RPO\", \"ReadEnd_WriteCapture\", \"Input\", \"P2R_model\", \"P2Rv9.1.hds\")\n",
    "stress_period = int(131) # year 2047"
   ]
  },
  {
   "cell_type": "code",
   "execution_count": 87,
   "id": "447b4080",
   "metadata": {},
   "outputs": [],
   "source": [
    "\n",
    "hds_file = flopy.utils.binaryfile.HeadFile(hds_file, precision=\"double\")\n",
    "rec = hds_file.get_data(totim=hds_file.get_times()[stress_period])"
   ]
  },
  {
   "cell_type": "code",
   "execution_count": null,
   "id": "c19b799d",
   "metadata": {},
   "outputs": [],
   "source": [
    "# define the subregion, 0-based indexing\n",
    "r0, r1 = 24-1, 31-1   # rows \n",
    "c0, c1 = 73-1, 90-1   # cols \n",
    "\n",
    "layers = rec.shape[0]\n",
    "nrows  = r1 - r0 # convert to zero-based indexing\n",
    "ncols  = c1 - c0 # convert to zero-based indexing\n",
    "\n",
    "# indices for (layer, row, col) within the subregion\n",
    "layer_idx, row_idx, col_idx = np.indices((layers, nrows, ncols))\n",
    "\n",
    "# flatten, adding offsets\n",
    "layer_flat = layer_idx.ravel()\n",
    "row_flat   = (row_idx + r0).ravel()\n",
    "col_flat   = (col_idx + c0).ravel()\n",
    "\n",
    "# heads data\n",
    "value_flat = rec[:, r0:r1, c0:c1].ravel()\n",
    "\n",
    "# Get real-world coordinates (cell centers)\n",
    "X = 557700 + (col_flat+1 * 200)\n",
    "Y = 142900 - (row_flat+1 * 200)\n"
   ]
  },
  {
   "cell_type": "code",
   "execution_count": 89,
   "id": "05c884a1",
   "metadata": {},
   "outputs": [],
   "source": [
    "df = pd.DataFrame({\n",
    "    \"layer\": layer_flat+1, # convert to 1-based indexing\n",
    "    \"row\": row_flat+1, # convert to 1-based indexing\n",
    "    \"col\": col_flat+1, # convert to 1-based indexing \n",
    "    \"x\": X,\n",
    "    \"y\": Y,\n",
    "    \"value\": value_flat\n",
    "})\n",
    "df.to_csv(\"subset.csv\", index=False)"
   ]
  },
  {
   "cell_type": "markdown",
   "id": "3da06256",
   "metadata": {},
   "source": []
  },
  {
   "cell_type": "markdown",
   "id": "b7c9214f",
   "metadata": {},
   "source": []
  }
 ],
 "metadata": {
  "kernelspec": {
   "display_name": "gwm",
   "language": "python",
   "name": "python3"
  },
  "language_info": {
   "codemirror_mode": {
    "name": "ipython",
    "version": 3
   },
   "file_extension": ".py",
   "mimetype": "text/x-python",
   "name": "python",
   "nbconvert_exporter": "python",
   "pygments_lexer": "ipython3",
   "version": "3.11.9"
  }
 },
 "nbformat": 4,
 "nbformat_minor": 5
}
