{
 "cells": [
  {
   "cell_type": "markdown",
   "id": "0d6fae4b-11b5-4b3b-8235-0685808b8ebb",
   "metadata": {},
   "source": [
    "# Write selfcontained MODFLOW files\n",
    "- extract refs and insert their file content to make file selfcontained"
   ]
  },
  {
   "cell_type": "code",
   "execution_count": 26,
   "id": "fe464715-e452-42d0-9a3d-a836a91668b6",
   "metadata": {},
   "outputs": [],
   "source": [
    "import os\n",
    "import re"
   ]
  },
  {
   "cell_type": "code",
   "execution_count": 27,
   "id": "ff835343-b78f-4644-95ee-4de3092893bf",
   "metadata": {},
   "outputs": [],
   "source": [
    "model_ws = os.path.join(\"ReadEnd_WriteCapture\",\"Input\",\"P2R_model\")"
   ]
  },
  {
   "cell_type": "code",
   "execution_count": 31,
   "id": "d89176fd-d6b1-4216-a076-a2a255a9ed8c",
   "metadata": {},
   "outputs": [],
   "source": [
    "def replace_refs_and_save_new(file_path, new_suffix=\"_expanded\"):\n",
    "    with open(file_path, 'r') as f:\n",
    "        lines = f.readlines()\n",
    "\n",
    "    new_lines = []\n",
    "    for line in lines:\n",
    "        # Match lines like: OPEN/CLOSE delr.ref 1 (FREE) -1 delr\n",
    "        match = re.match(r'^\\s*OPEN/CLOSE\\s+[\\'\"]?([^\\'\"\\s]+\\.ref)[\\'\"]?\\s+(.*)', line, re.IGNORECASE)\n",
    "        if match:\n",
    "            ref_path = match.group(1)\n",
    "            trailing_header = match.group(2)\n",
    "            ref_abs_path = os.path.normpath(os.path.join(os.path.dirname(file_path), ref_path))\n",
    "            if not os.path.isfile(ref_abs_path):\n",
    "                raise FileNotFoundError(f\"Referenced file not found: {ref_abs_path}\")\n",
    "\n",
    "            with open(ref_abs_path, 'r') as ref_file:\n",
    "                ref_content = ref_file.readlines()\n",
    "\n",
    "            # Replace with INTERNAL line and keep the rest of the header\n",
    "            new_lines.append(f\"  INTERNAL {trailing_header}\\n\")\n",
    "            new_lines.extend(ref_content)\n",
    "        else:\n",
    "            new_lines.append(line)\n",
    "\n",
    "    # Save to new file\n",
    "    base, ext = os.path.splitext(file_path)\n",
    "    new_file_path = f\"{base}{new_suffix}{ext}\"\n",
    "    with open(new_file_path, 'w') as f:\n",
    "        f.writelines(new_lines)\n",
    "    \n",
    "    print(f\"Saved expanded file to: {new_file_path}\")"
   ]
  },
  {
   "cell_type": "code",
   "execution_count": 32,
   "id": "27597c76-47b0-47ad-80d5-957f66f4612b",
   "metadata": {},
   "outputs": [
    {
     "name": "stdout",
     "output_type": "stream",
     "text": [
      "Saved expanded file to: ReadEnd_WriteCapture\\Input\\P2R_model\\P2Rv9.1_expanded.dis\n"
     ]
    }
   ],
   "source": [
    "mf_file = os.path.join(model_ws,'P2Rv9.1.dis')\n",
    "replace_refs_and_save_new(mf_file)"
   ]
  },
  {
   "cell_type": "code",
   "execution_count": null,
   "id": "81036873-7ed4-4072-9da4-808de62b07d5",
   "metadata": {},
   "outputs": [],
   "source": []
  }
 ],
 "metadata": {
  "kernelspec": {
   "display_name": "Python 3 (ipykernel)",
   "language": "python",
   "name": "python3"
  },
  "language_info": {
   "codemirror_mode": {
    "name": "ipython",
    "version": 3
   },
   "file_extension": ".py",
   "mimetype": "text/x-python",
   "name": "python",
   "nbconvert_exporter": "python",
   "pygments_lexer": "ipython3",
   "version": "3.11.9"
  }
 },
 "nbformat": 4,
 "nbformat_minor": 5
}
