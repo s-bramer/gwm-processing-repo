{
 "cells": [
  {
   "cell_type": "markdown",
   "id": "8e431e4c-734b-4e0e-9c3b-9f8c2b8ea1bf",
   "metadata": {},
   "source": [
    "# Write grid shapefile using DIS and BAS"
   ]
  },
  {
   "cell_type": "code",
   "execution_count": 24,
   "id": "6a92c004-dd2b-4020-b522-7d100c4cf74c",
   "metadata": {},
   "outputs": [],
   "source": [
    "import numpy as np\n",
    "import geopandas as gpd\n",
    "from shapely.geometry import Polygon\n",
    "import os\n",
    "import flopy"
   ]
  },
  {
   "cell_type": "code",
   "execution_count": 25,
   "id": "27c7ebb7-e9c1-4401-b47c-d67481392e18",
   "metadata": {},
   "outputs": [],
   "source": [
    "model_ws = os.path.join(\"ReadEnd_WriteCapture\",\"Input\",\"P2R_model\")\n",
    "namefile = 'P2R.nam'"
   ]
  },
  {
   "cell_type": "code",
   "execution_count": 26,
   "id": "8ad38805-2345-4590-8d04-2776f2cb677d",
   "metadata": {},
   "outputs": [
    {
     "name": "stderr",
     "output_type": "stream",
     "text": [
      "C:\\Users\\sbramer\\AppData\\Local\\miniconda3\\envs\\gwm\\Lib\\site-packages\\flopy\\mbase.py:97: UserWarning: The program mf2005 does not exist or is not executable.\n",
      "  warn(\n"
     ]
    }
   ],
   "source": [
    "#load MODFLOW model\n",
    "mf = flopy.modflow.Modflow.load(\n",
    "    namefile,\n",
    "    model_ws=model_ws,  # replace with your path\n",
    "    check=False,\n",
    "    verbose=False,\n",
    "    forgive=True,\n",
    "    version=\"mf2005\",\n",
    "    load_only=['DIS', 'BAS6']\n",
    ")"
   ]
  },
  {
   "cell_type": "code",
   "execution_count": 27,
   "id": "eaea556f-4ad7-499d-b927-a15b96f21175",
   "metadata": {},
   "outputs": [],
   "source": [
    "def write_grid_shapefile_from_ibound(ibound, delr, delc, xul, yul, output_file, layer=0):\n",
    "    \"\"\"\n",
    "    Create a shapefile of MODFLOW grid cells from an IBOUND array.\n",
    "\n",
    "    Parameters:\n",
    "    - ibound: 3D numpy array (layers, rows, cols)\n",
    "    - delr: 1D array of column widths\n",
    "    - delc: 1D array of row heights\n",
    "    - xul, yul: upper-left model origin (Easting, Northing)\n",
    "    - output_file: path to output .shp file\n",
    "    - layer: which layer of IBOUND to use (default: 0)\n",
    "    \"\"\"\n",
    "    nlay, nrow, ncol = ibound.shape\n",
    "    features = []\n",
    "\n",
    "    for i in range(nrow):\n",
    "        for j in range(ncol):\n",
    "            # Cell edges\n",
    "            x0 = xul + np.sum(delr[:j])\n",
    "            x1 = x0 + delr[j]\n",
    "            y0 = yul - np.sum(delc[:i])\n",
    "            y1 = y0 - delc[i]\n",
    "\n",
    "            # Build rectangle polygon\n",
    "            poly = Polygon([(x0, y0), (x1, y0), (x1, y1), (x0, y1)])\n",
    "\n",
    "            # Attributes\n",
    "            row = i + 1\n",
    "            col = j + 1\n",
    "            delx = delr[j]\n",
    "            dely = delc[i]\n",
    "            area = delx * dely\n",
    "            ibnd = ibound[layer, i, j]\n",
    "            rc_str = f\"{row}_{col}\"\n",
    "\n",
    "            features.append({\n",
    "                \"geometry\": poly,\n",
    "                \"row\": row,\n",
    "                \"column\": col,\n",
    "                \"delx\": delx,\n",
    "                \"dely\": dely,\n",
    "                \"area\": area,\n",
    "                \"I\": row,\n",
    "                \"J\": col,\n",
    "                \"IBND\": ibnd,\n",
    "                \"R_C\": rc_str\n",
    "            })\n",
    "\n",
    "    # Build GeoDataFrame and write shapefile\n",
    "    gdf = gpd.GeoDataFrame(features, crs=\"EPSG:32149\")  # Set to your EPSG\n",
    "    gdf.to_file(output_file)\n",
    "\n",
    "    print(f\"Shapefile written: {output_file}\")"
   ]
  },
  {
   "cell_type": "code",
   "execution_count": 28,
   "id": "98857096-0612-4992-a388-71ee29c2c87f",
   "metadata": {},
   "outputs": [],
   "source": [
    "dis = mf.get_package(\"dis\")\n",
    "delr = mf.dis.delr.array.flatten()\n",
    "delc = mf.dis.delc.array.flatten()\n",
    "xul = 557800.0  # easting\n",
    "yul = 142800.0  # northing\n",
    "bas = mf.get_package(\"bas6\")\n",
    "ibound = bas.ibound.array"
   ]
  },
  {
   "cell_type": "code",
   "execution_count": 29,
   "id": "5ed436c9-13cc-4cd4-896b-b18690e7f9d8",
   "metadata": {},
   "outputs": [
    {
     "name": "stdout",
     "output_type": "stream",
     "text": [
      "Shapefile written: P2RSW_grid.shp\n"
     ]
    }
   ],
   "source": [
    "#write grid shapefile\n",
    "write_grid_shapefile_from_ibound(\n",
    "    ibound=ibound,\n",
    "    delr=delr,\n",
    "    delc=delc,\n",
    "    xul=xul,\n",
    "    yul=yul,\n",
    "    output_file=\"P2RSW_grid.shp\"\n",
    ")"
   ]
  },
  {
   "cell_type": "code",
   "execution_count": null,
   "id": "41d27f2e-21d7-4705-8588-13b4d1a76750",
   "metadata": {},
   "outputs": [],
   "source": []
  }
 ],
 "metadata": {
  "kernelspec": {
   "display_name": "Python 3 (ipykernel)",
   "language": "python",
   "name": "python3"
  },
  "language_info": {
   "codemirror_mode": {
    "name": "ipython",
    "version": 3
   },
   "file_extension": ".py",
   "mimetype": "text/x-python",
   "name": "python",
   "nbconvert_exporter": "python",
   "pygments_lexer": "ipython3",
   "version": "3.11.9"
  }
 },
 "nbformat": 4,
 "nbformat_minor": 5
}
